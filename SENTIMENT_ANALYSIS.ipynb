{
 "cells": [
  {
   "cell_type": "code",
   "execution_count": null,
   "id": "2a30edf7",
   "metadata": {},
   "outputs": [],
   "source": [
    "# THIS IS INITIAL CHECK\n"
   ]
  }
 ],
 "metadata": {
  "kernelspec": {
   "display_name": "Python 3",
   "language": "python",
   "name": "python3"
  },
  "language_info": {
   "name": "python",
   "version": "3.12.5"
  }
 },
 "nbformat": 4,
 "nbformat_minor": 5
}
